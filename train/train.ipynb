{
 "cells": [
  {
   "cell_type": "code",
   "execution_count": 1,
   "metadata": {},
   "outputs": [],
   "source": [
    "import sys\n",
    "sys.path.append('../')\n",
    "\n",
    "from utils.dataset import  CustomDataset\n",
    "import os\n",
    "import warnings\n",
    "warnings.filterwarnings(\"ignore\")\n",
    "import glob\n",
    "import matplotlib.pyplot as plt\n",
    "from sklearn.metrics import confusion_matrix\n",
    "from sklearn.model_selection import train_test_split\n",
    "import pandas as pd\n",
    "from tqdm import tqdm\n",
    "import threading\n",
    "import random\n",
    "# import rasterio\n",
    "import os\n",
    "import numpy as np\n",
    "import sys\n",
    "from sklearn.utils import shuffle as shuffle_lists\n",
    "import numpy as np\n",
    "from sklearn.model_selection import train_test_split\n",
    "import joblib\n",
    "\n",
    "import torch\n",
    "\n",
    "#default\n",
    "import torch\n",
    "import torch.nn as nn\n",
    "import torch.nn.functional as F\n",
    "import torch.optim as optim\n",
    "import torch.optim.lr_scheduler as lr_scheduler\n",
    "\n",
    "#trasnform\n",
    "from torchvision import transforms\n",
    "from utils.transform import *\n",
    "\n",
    "#dataset\n",
    "from utils.dataset import CustomDataset\n",
    "from torch.utils.data import DataLoader, random_split\n",
    "import torchvision.models as models\n",
    "from torchsummary import summary\n",
    "from torchsampler import ImbalancedDatasetSampler\n",
    "\n",
    "#metric\n",
    "from sklearn.metrics import accuracy_score, precision_score, recall_score, f1_score, roc_curve, auc\n",
    "import torchmetrics.functional as tf\n",
    "\n",
    "#numeric\n",
    "import numpy as np\n",
    "import pandas as pd \n",
    "\n",
    "#visualization\n",
    "import matplotlib.pyplot as plt\n",
    "\n",
    "#system \n",
    "from tqdm import tqdm\n",
    "import os \n",
    "import wandb\n",
    "import datetime\n"
   ]
  },
  {
   "cell_type": "code",
   "execution_count": 2,
   "metadata": {},
   "outputs": [
    {
     "name": "stdout",
     "output_type": "stream",
     "text": [
      "############################## SAVE TIME ##############################\n",
      "############################## 202403220813 ##############################\n"
     ]
    }
   ],
   "source": [
    "now = datetime.datetime.now()\n",
    "formatted_now = now.strftime(\"%Y%m%d%H%M\")\n",
    "checkpoint_datetime = formatted_now\n",
    "print(f\"#\"*30, \"SAVE TIME\", \"#\"*30)\n",
    "print(f\"#\"*30, checkpoint_datetime, \"#\"*30)"
   ]
  },
  {
   "cell_type": "code",
   "execution_count": 3,
   "metadata": {},
   "outputs": [],
   "source": [
    "from torch.utils.data import Dataset\n",
    "from torchvision import transforms\n",
    "import torch \n",
    "import os \n",
    "from PIL import Image\n",
    "import numpy as np\n",
    "import pandas as pd \n",
    "import rasterio\n",
    "\n",
    "class CustomDataset(Dataset):\n",
    "    def __init__(self, csv_path, transform = None, MAX_PIXEL_VALUE = 65535, band = None): #transform 가지고올거있으면 가지고 오기\n",
    "        self.MAX_PIXEL_VALUE = MAX_PIXEL_VALUE \n",
    "        self.band = band\n",
    "        self.transform = transform\n",
    "        self.image_paths, self.mask_paths = self.csv_load(csv_path = csv_path, type = csv_path.split('/')[-1].split('_')[0])\n",
    "    \n",
    "    def csv_load(self, csv_path, type):\n",
    "        self.type = type \n",
    "        df = pd.read_csv(csv_path)\n",
    "        # os.pathconf('../')\n",
    "        image_paths = f'../../dataset/{type}_img/' + df[f'{type}_img']\n",
    "        mask_paths = f'../../dataset/{type}_mask/' + df[f'{type}_mask']\n",
    "        \n",
    "        return  image_paths, mask_paths\n",
    "        \n",
    "    def get_img_arr(self, path):\n",
    "        # img = rasterio.open(path).read().transpose((1, 2, 0))\n",
    "        img = rasterio.open(path).read(self.band).transpose((1, 2, 0))\n",
    "        img = np.float32(img)/self.MAX_PIXEL_VALUE\n",
    "\n",
    "        return img\n",
    "    \n",
    "    def get_mask_arr(self, path):\n",
    "        img = rasterio.open(path).read().transpose((1, 2, 0))\n",
    "        seg = np.float32(img)\n",
    "        return seg\n",
    "    \n",
    "    def __len__(self):\n",
    "        return len(self.image_paths) \n",
    "    \n",
    "    def __getitem__(self, idx):\n",
    "        image_path = self.image_paths[idx]\n",
    "        mask_path = self.mask_paths[idx]\n",
    "        \n",
    "        images = self.get_img_arr(path = image_path)\n",
    "        masks = self.get_mask_arr(path = mask_path)\n",
    "        \n",
    "        # # transform \n",
    "        if self.transform:\n",
    "            images = self.transform(images)\n",
    "        \n",
    "        return images, masks"
   ]
  },
  {
   "cell_type": "code",
   "execution_count": 4,
   "metadata": {},
   "outputs": [],
   "source": [
    "train_csv = '../../dataset/train_meta.csv'\n",
    "\n",
    "train_transform = transforms.Compose([\n",
    "    transforms.ToTensor(),\n",
    "    RandomColorJitterTransform(brightness=0.05, contrast=0.05, saturation=0.05, hue=0.05),\n",
    "    # ColorJitterTransform(brightness=0.05, contrast=0.05, saturation=0.05, hue=0.1),  # Color space transformation\n",
    "    RandomDropout(p=0.2),  # Random dropout\n",
    "    \n",
    "])\n",
    "tr_batch = 2\n",
    "vl_batch = 2\n",
    "\n",
    "dataset = CustomDataset(\n",
    "    csv_path= train_csv,\n",
    "    transform= train_transform, #None으로 세팅\n",
    "    MAX_PIXEL_VALUE= 65535,\n",
    "    band = (7,6,2) #기존 세팅 \n",
    ")\n",
    "\n",
    "# 훈련 및 검증 세트 분할\n",
    "train_size = int(0.8 * len(dataset))\n",
    "valid_size = len(dataset) - train_size \n",
    "train_dataset, valid_dataset = random_split(dataset, [train_size, valid_size])\n",
    "train_loader = DataLoader(\n",
    "    dataset = train_dataset,\n",
    "    batch_size = tr_batch,\n",
    "    # sampler= ImbalancedDatasetSampler(train_dataset),\n",
    "    shuffle = True\n",
    ")\n",
    "valid_loader = DataLoader(dataset = valid_dataset, batch_size = vl_batch, shuffle= False)\n",
    "\n"
   ]
  },
  {
   "cell_type": "code",
   "execution_count": 5,
   "metadata": {},
   "outputs": [
    {
     "name": "stdout",
     "output_type": "stream",
     "text": [
      "torch.Size([2, 3, 256, 256]) torch.Size([2, 256, 256, 1])\n"
     ]
    },
    {
     "data": {
      "image/png": "[encoded data removed]",
      "text/plain": [
       "<Figure size 600x400 with 2 Axes>"
      ]
     },
     "metadata": {},
     "output_type": "display_data"
    }
   ],
   "source": [
    "for images, masks in train_loader:\n",
    "    print(images.shape, masks.shape)\n",
    "    idx = 0\n",
    "    plt.figure(figsize=(6,4))\n",
    "    plt.subplot(121)\n",
    "    plt.imshow(images[idx].permute(1,2,0))\n",
    "    plt.title('image')\n",
    "    plt.subplot(122)\n",
    "    plt.imshow(masks[idx], cmap= 'gray')\n",
    "    plt.title('mask')\n",
    "    plt.show()\n",
    "    break\n",
    "\n",
    "# for images, masks in valid_loader:\n",
    "#     print(images.shape)\n",
    "#     idx = 0\n",
    "#     plt.figure(figsize=(6,4))\n",
    "#     plt.subplot(121)\n",
    "#     plt.imshow(images[idx])\n",
    "#     plt.title('image')\n",
    "#     plt.subplot(122) \n",
    "#     plt.imshow(masks[idx], cmap= 'gray')\n",
    "#     plt.title('mask')\n",
    "#     plt.show()\n",
    "#     break"
   ]
  },
  {
   "cell_type": "code",
   "execution_count": 6,
   "metadata": {},
   "outputs": [
    {
     "name": "stderr",
     "output_type": "stream",
     "text": [
      "Using cache found in /home/oj/.cache/torch/hub/mateuszbuda_brain-segmentation-pytorch_master\n"
     ]
    }
   ],
   "source": [
    "#model\n",
    "sys.path.append('../')\n",
    "from network.models import get_pretrained_model\n",
    "\n",
    "# if torch.cuda.is_available():\n",
    "#     device = 'cuda'\n",
    "#     torch.cuda.manual_seed_all(42)\n",
    "device = 'cuda'\n",
    "# # random seed 고정\n",
    "# random.seed(42)\n",
    "# if torch.cuda.is_available():\n",
    "#     device = torch.device('cuda')\n",
    "#     torch.cuda.manual_seed_all(42)\n",
    "# else:\n",
    "#     device = torch.device('cuda')\n",
    "#     torch.manual_seed_all(42)\n",
    "\n",
    "# # model & cost func & optimizer 정의\n",
    "############################ V1~2 #############################\n",
    "model = get_pretrained_model('unet').get()\n",
    "############################ V3~4 #############################\n",
    "# model = AttU_Net(img_ch= 3, output_ch= 1)\n",
    "# model = get_pretrained_model('attunet').get()\n",
    "# model = get_pretrained_model('r2attunet').get()\n",
    "############################ V5 #############################\n",
    "# model = get_pretrained_model('unet++').get()\n",
    "############################ V6 #############################\n",
    "# model = get_pretrained_model('manet').get()\n",
    "\n",
    "model.to(device)\n",
    "\n",
    "lr = 0.0001\n",
    "optimizer = torch.optim.AdamW(model.parameters(), lr = lr)\n",
    "scheduler = lr_scheduler.LambdaLR(optimizer, lr_lambda= lambda epoch: 0.95**epoch)\n",
    "\n",
    "loss = nn.BCEWithLogitsLoss()\n",
    "\n",
    "print(f'device : {device}')\n",
    "# summary(model, input_size=(3, 224, 224))\n",
    "\n"
   ]
  },
  {
   "cell_type": "code",
   "execution_count": null,
   "metadata": {},
   "outputs": [],
   "source": [
    "metrics = {\n",
    "    'tr_bce' : [],\n",
    "    'vl_bce' : [],\n",
    "    'tr_iou' : [],\n",
    "    'vl_iou' : [],\n",
    "}\n",
    "epoch, epochs = 0, 200\n",
    "early_stopping_epochs, early_stopping_cnt= 10, 0\n",
    "SAVE_DIR = '../../satellite_model'\n",
    "best_loss = float('inf')\n"
   ]
  },
  {
   "cell_type": "code",
   "execution_count": null,
   "metadata": {},
   "outputs": [],
   "source": [
    "def checkpoint(SAVE_DIR, checkpoint_datetime, model, optimizer, lr, loss, metrics, epoch, epochs, images, masks, preds):\n",
    "    # loss plot\n",
    "    plt.figure(figsize=(10, 7))\n",
    "    plt.subplot(121)\n",
    "    plt.plot(metrics['tr_bce'], label='Train Loss')\n",
    "    plt.plot(metrics['vl_bce'], label='Valid Loss')\n",
    "    plt.title(\"BCE | DOWN GOOD\")\n",
    "    plt.legend()\n",
    "    plt.subplot(122)\n",
    "    plt.plot(metrics['tr_iou'], label='Train IoU')\n",
    "    plt.plot(metrics['vl_iou'], label='Valid IoU')\n",
    "    plt.title(\"mIOU | UP GOOD\")\n",
    "    plt.legend()\n",
    "    plt.tight_layout()\n",
    "    plt.savefig(os.path.join(SAVE_DIR, checkpoint_datetime+f'_{epoch}_{epochs}_loss.png'))\n",
    "    plt.close()\n",
    "    \n",
    "    # mask plot\n",
    "    plt.figure(figsize=(10, 7))\n",
    "    plt.subplot(131)\n",
    "    plt.imshow(images[0].cpu().permute(1,2,0))\n",
    "    plt.title('image')\n",
    "    plt.axis('off')\n",
    "    plt.subplot(132)\n",
    "    plt.imshow(masks[0].cpu().permute(1,2,0))\n",
    "    plt.title('mask')\n",
    "    plt.axis('off')\n",
    "    plt.subplot(133)\n",
    "    plt.imshow(preds[0].cpu().permute(1,2,0))\n",
    "    plt.title('pred')\n",
    "    plt.axis('off')\n",
    "    plt.tight_layout()\n",
    "    plt.savefig(os.path.join(SAVE_DIR, checkpoint_datetime+f'_{epoch}_{epochs}_mask.png'))\n",
    "    plt.close()\n",
    "    \n",
    "    torch.save({\n",
    "        \"model\" : f\"{epoch}\",\n",
    "        \"epoch\" : epoch,\n",
    "        \"epochs\" : epochs,\n",
    "        \"model_state_dict\" : model.state_dict(),\n",
    "        \"optimizer_state_dict\" : optimizer.state_dict(),\n",
    "        \"learning_rate\" : lr,\n",
    "        \"loss\" : loss,\n",
    "        \"metric\" : metrics,\n",
    "        \"description\" : f\"segmentation model training status : {epoch}/{epochs}\"\n",
    "    },\n",
    "    os.path.join(SAVE_DIR, checkpoint_datetime+f'_{epoch}_{epochs}.pt'))\n",
    "    print(f\"#\"*30, f\"SAVE PATH : {SAVE_DIR}\", \"#\"*30)\n",
    "    \n",
    "def calculate_iou(preds, masks, threshold=0.5):\n",
    "    # 예측 마스크를 이진 형태로 변환\n",
    "    preds = (preds > threshold).float()\n",
    "    \n",
    "    intersection = torch.sum(preds * masks)\n",
    "    union = torch.sum((preds + masks) > 0)\n",
    "    \n",
    "    iou = (intersection + 1e-7) / (union + 1e-7)  # 0으로 나누는 경우를 방지하기 위해 작은 값(1e-7)을 추가\n",
    "    \n",
    "    return iou"
   ]
  },
  {
   "cell_type": "code",
   "execution_count": null,
   "metadata": {},
   "outputs": [
    {
     "name": "stderr",
     "output_type": "stream",
     "text": [
      "  0%|          | 0/13430 [00:00<?, ?it/s] [00:00<?, ?it/s]\n"
     ]
    },
    {
     "name": "stdout",
     "output_type": "stream",
     "text": [
      "Epoch : 0/200 | Train Loss : 5.5117595577453025e-05\n",
      "Epoch : 0/200 | Train IOU : 7.426707057929705e-16\n"
     ]
    },
    {
     "name": "stderr",
     "output_type": "stream",
     "text": [
      "  0%|          | 0/3358 [00:00<?, ?it/s]\n",
      "Training Progress:   0%|          | 1/200 [00:00<00:24,  8.13it/s]"
     ]
    },
    {
     "name": "stdout",
     "output_type": "stream",
     "text": [
      "Epoch : 0/200 | Valid Loss : 0.00020641990187907942\n",
      "Epoch : 0/200 | Valid IOU : 9.606332670631863e-13\n",
      "zero-size array to reduction operation maximum which has no identity\n"
     ]
    },
    {
     "name": "stderr",
     "output_type": "stream",
     "text": [
      "  0%|          | 0/13430 [00:00<?, ?it/s]\n"
     ]
    },
    {
     "name": "stdout",
     "output_type": "stream",
     "text": [
      "Epoch : 1/200 | Train Loss : 5.359478788595988e-05\n",
      "Epoch : 1/200 | Train IOU : 1.3272756818081123e-15\n"
     ]
    },
    {
     "name": "stderr",
     "output_type": "stream",
     "text": [
      "  0%|          | 0/3358 [00:00<?, ?it/s]\n"
     ]
    },
    {
     "name": "stdout",
     "output_type": "stream",
     "text": [
      "Epoch : 1/200 | Valid Loss : 0.00020642018587976925\n",
      "Epoch : 1/200 | Valid IOU : 9.606332670631863e-13\n"
     ]
    },
    {
     "name": "stderr",
     "output_type": "stream",
     "text": [
      "  0%|          | 0/13430 [00:00<?, ?it/s]\n"
     ]
    },
    {
     "name": "stdout",
     "output_type": "stream",
     "text": [
      "Epoch : 2/200 | Train Loss : 5.4041778340059166e-05\n",
      "Epoch : 2/200 | Train IOU : 1.1009930815556945e-15\n"
     ]
    },
    {
     "name": "stderr",
     "output_type": "stream",
     "text": [
      "  0%|          | 0/3358 [00:00<?, ?it/s]\n",
      "Training Progress:   2%|▏         | 3/200 [00:00<00:18, 10.62it/s]"
     ]
    },
    {
     "name": "stdout",
     "output_type": "stream",
     "text": [
      "Epoch : 2/200 | Valid Loss : 0.00020642071838106266\n",
      "Epoch : 2/200 | Valid IOU : 9.606332670631863e-13\n"
     ]
    },
    {
     "name": "stderr",
     "output_type": "stream",
     "text": [
      "  0%|          | 0/13430 [00:00<?, ?it/s]\n"
     ]
    },
    {
     "name": "stdout",
     "output_type": "stream",
     "text": [
      "Epoch : 3/200 | Train Loss : 5.2098711302097573e-05\n",
      "Epoch : 3/200 | Train IOU : 8.568488413707942e-08\n"
     ]
    },
    {
     "name": "stderr",
     "output_type": "stream",
     "text": [
      "  0%|          | 0/3358 [00:00<?, ?it/s]\n"
     ]
    },
    {
     "name": "stdout",
     "output_type": "stream",
     "text": [
      "Epoch : 3/200 | Valid Loss : 0.0002064210556318818\n",
      "Epoch : 3/200 | Valid IOU : 9.606332670631863e-13\n"
     ]
    },
    {
     "name": "stderr",
     "output_type": "stream",
     "text": [
      "  0%|          | 0/13430 [00:00<?, ?it/s]\n"
     ]
    },
    {
     "name": "stdout",
     "output_type": "stream",
     "text": [
      "Epoch : 4/200 | Train Loss : 5.246333816738512e-05\n",
      "Epoch : 4/200 | Train IOU : 3.1272644149944636e-15\n"
     ]
    },
    {
     "name": "stderr",
     "output_type": "stream",
     "text": [
      "  0%|          | 0/3358 [00:00<?, ?it/s]\n",
      "Training Progress:   2%|▎         | 5/200 [00:00<00:17, 10.93it/s]"
     ]
    },
    {
     "name": "stdout",
     "output_type": "stream",
     "text": [
      "Epoch : 4/200 | Valid Loss : 0.0002064345101645619\n",
      "Epoch : 4/200 | Valid IOU : 7.444907637898519e-13\n"
     ]
    },
    {
     "name": "stderr",
     "output_type": "stream",
     "text": [
      "  0%|          | 0/13430 [00:00<?, ?it/s]\n"
     ]
    },
    {
     "name": "stdout",
     "output_type": "stream",
     "text": [
      "Epoch : 5/200 | Train Loss : 5.221760104329215e-05\n",
      "Epoch : 5/200 | Train IOU : 5.124581366519723e-15\n"
     ]
    },
    {
     "name": "stderr",
     "output_type": "stream",
     "text": [
      "  0%|          | 0/3358 [00:00<?, ?it/s]\n"
     ]
    },
    {
     "name": "stdout",
     "output_type": "stream",
     "text": [
      "Epoch : 5/200 | Valid Loss : 0.00020643809567327085\n",
      "Epoch : 5/200 | Valid IOU : 6.925495846179441e-13\n"
     ]
    },
    {
     "name": "stderr",
     "output_type": "stream",
     "text": [
      "  0%|          | 0/13430 [00:00<?, ?it/s]\n"
     ]
    },
    {
     "name": "stdout",
     "output_type": "stream",
     "text": [
      "Epoch : 6/200 | Train Loss : 5.230129608358808e-05\n",
      "Epoch : 6/200 | Train IOU : 3.824353549982871e-15\n"
     ]
    },
    {
     "name": "stderr",
     "output_type": "stream",
     "text": [
      "  0%|          | 0/3358 [00:00<?, ?it/s]\n",
      "Training Progress:   4%|▎         | 7/200 [00:00<00:17, 10.96it/s]"
     ]
    },
    {
     "name": "stdout",
     "output_type": "stream",
     "text": [
      "Epoch : 6/200 | Valid Loss : 0.00020642501389149615\n",
      "Epoch : 6/200 | Valid IOU : 8.758714751426381e-13\n"
     ]
    },
    {
     "name": "stderr",
     "output_type": "stream",
     "text": [
      "  0%|          | 0/13430 [00:00<?, ?it/s]\n"
     ]
    },
    {
     "name": "stdout",
     "output_type": "stream",
     "text": [
      "Epoch : 7/200 | Train Loss : 5.287287932940588e-05\n",
      "Epoch : 7/200 | Train IOU : 2.082801747733983e-15\n"
     ]
    },
    {
     "name": "stderr",
     "output_type": "stream",
     "text": [
      "  0%|          | 0/3358 [00:00<?, ?it/s]\n"
     ]
    },
    {
     "name": "stdout",
     "output_type": "stream",
     "text": [
      "Epoch : 7/200 | Valid Loss : 0.00020644531994081807\n",
      "Epoch : 7/200 | Valid IOU : 6.204089588041993e-13\n"
     ]
    },
    {
     "name": "stderr",
     "output_type": "stream",
     "text": [
      "  0%|          | 0/13430 [00:00<?, ?it/s]\n"
     ]
    },
    {
     "name": "stdout",
     "output_type": "stream",
     "text": [
      "Epoch : 8/200 | Train Loss : 5.2555909550908956e-05\n",
      "Epoch : 8/200 | Train IOU : 2.8715837414554923e-15\n"
     ]
    },
    {
     "name": "stderr",
     "output_type": "stream",
     "text": [
      "  0%|          | 0/3358 [00:00<?, ?it/s]\n",
      "Training Progress:   4%|▍         | 9/200 [00:00<00:17, 11.08it/s]"
     ]
    },
    {
     "name": "stdout",
     "output_type": "stream",
     "text": [
      "Epoch : 8/200 | Valid Loss : 0.00020647192725544531\n",
      "Epoch : 8/200 | Valid IOU : 4.581481775916158e-13\n"
     ]
    },
    {
     "name": "stderr",
     "output_type": "stream",
     "text": [
      "  0%|          | 0/13430 [00:00<?, ?it/s]\n"
     ]
    },
    {
     "name": "stdout",
     "output_type": "stream",
     "text": [
      "Epoch : 9/200 | Train Loss : 5.2153957662348063e-05\n",
      "Epoch : 9/200 | Train IOU : 5.217951081557005e-15\n"
     ]
    },
    {
     "name": "stderr",
     "output_type": "stream",
     "text": [
      "  0%|          | 0/3358 [00:00<?, ?it/s]\n"
     ]
    },
    {
     "name": "stdout",
     "output_type": "stream",
     "text": [
      "Epoch : 9/200 | Valid Loss : 0.0002064806780267003\n",
      "Epoch : 9/200 | Valid IOU : 4.315888524071062e-13\n"
     ]
    },
    {
     "name": "stderr",
     "output_type": "stream",
     "text": [
      "  0%|          | 0/13430 [00:00<?, ?it/s]\n"
     ]
    },
    {
     "name": "stdout",
     "output_type": "stream",
     "text": [
      "Epoch : 10/200 | Train Loss : 5.221705958635525e-05\n",
      "Epoch : 10/200 | Train IOU : 5.527852399223391e-08\n"
     ]
    },
    {
     "name": "stderr",
     "output_type": "stream",
     "text": [
      "  0%|          | 0/3358 [00:00<?, ?it/s]\n",
      "Training Progress:   6%|▌         | 11/200 [00:01<00:17, 10.85it/s]"
     ]
    },
    {
     "name": "stdout",
     "output_type": "stream",
     "text": [
      "Epoch : 10/200 | Valid Loss : 0.00020643694192046846\n",
      "Epoch : 10/200 | Valid IOU : 8.048548922827708e-13\n",
      "Early Stops!!! : 10/200\n"
     ]
    },
    {
     "name": "stderr",
     "output_type": "stream",
     "text": [
      "  0%|          | 0/13430 [00:00<?, ?it/s]\n"
     ]
    },
    {
     "name": "stdout",
     "output_type": "stream",
     "text": [
      "Epoch : 11/200 | Train Loss : 5.2116597133701806e-05\n",
      "Epoch : 11/200 | Train IOU : 7.16652217423952e-15\n"
     ]
    },
    {
     "name": "stderr",
     "output_type": "stream",
     "text": [
      "  0%|          | 0/3358 [00:00<?, ?it/s]\n"
     ]
    },
    {
     "name": "stdout",
     "output_type": "stream",
     "text": [
      "Epoch : 11/200 | Valid Loss : 0.00020651482910965084\n",
      "Epoch : 11/200 | Valid IOU : 3.202111000417393e-13\n",
      "Early Stops!!! : 11/200\n"
     ]
    },
    {
     "name": "stderr",
     "output_type": "stream",
     "text": [
      "  0%|          | 0/13430 [00:00<?, ?it/s]\n"
     ]
    },
    {
     "name": "stdout",
     "output_type": "stream",
     "text": [
      "Epoch : 12/200 | Train Loss : 5.257890815621246e-05\n",
      "Epoch : 12/200 | Train IOU : 2.760851549858728e-15\n"
     ]
    },
    {
     "name": "stderr",
     "output_type": "stream",
     "text": [
      "  0%|          | 0/3358 [00:00<?, ?it/s]\n",
      "Training Progress:   6%|▋         | 13/200 [00:01<00:17, 10.64it/s]"
     ]
    },
    {
     "name": "stdout",
     "output_type": "stream",
     "text": [
      "Epoch : 12/200 | Valid Loss : 0.00020644617194288752\n",
      "Epoch : 12/200 | Valid IOU : 9.606332670631863e-13\n",
      "Early Stops!!! : 12/200\n"
     ]
    },
    {
     "name": "stderr",
     "output_type": "stream",
     "text": [
      "  0%|          | 0/13430 [00:00<?, ?it/s]\n"
     ]
    },
    {
     "name": "stdout",
     "output_type": "stream",
     "text": [
      "Epoch : 13/200 | Train Loss : 5.20124243695791e-05\n",
      "Epoch : 13/200 | Train IOU : 7.285730614826647e-15\n"
     ]
    },
    {
     "name": "stderr",
     "output_type": "stream",
     "text": [
      "  0%|          | 0/3358 [00:00<?, ?it/s]\n"
     ]
    },
    {
     "name": "stdout",
     "output_type": "stream",
     "text": [
      "Epoch : 13/200 | Valid Loss : 0.00020658831428814104\n",
      "Epoch : 13/200 | Valid IOU : 2.157944262035531e-13\n",
      "Early Stops!!! : 13/200\n"
     ]
    },
    {
     "name": "stderr",
     "output_type": "stream",
     "text": [
      "  0%|          | 0/13430 [00:00<?, ?it/s]\n"
     ]
    },
    {
     "name": "stdout",
     "output_type": "stream",
     "text": [
      "Epoch : 14/200 | Train Loss : 5.185536191433291e-05\n",
      "Epoch : 14/200 | Train IOU : 1.3178791739850992e-07\n"
     ]
    },
    {
     "name": "stderr",
     "output_type": "stream",
     "text": [
      "  0%|          | 0/3358 [00:00<?, ?it/s]\n",
      "Training Progress:   8%|▊         | 15/200 [00:01<00:17, 10.54it/s]"
     ]
    },
    {
     "name": "stdout",
     "output_type": "stream",
     "text": [
      "Epoch : 14/200 | Valid Loss : 0.00020651564561163406\n",
      "Epoch : 14/200 | Valid IOU : 3.4627479230897205e-13\n",
      "Early Stops!!! : 14/200\n"
     ]
    },
    {
     "name": "stderr",
     "output_type": "stream",
     "text": [
      "  0%|          | 0/13430 [00:00<?, ?it/s]\n"
     ]
    },
    {
     "name": "stdout",
     "output_type": "stream",
     "text": [
      "Epoch : 15/200 | Train Loss : 5.185317389572723e-05\n",
      "Epoch : 15/200 | Train IOU : 1.4628715629434944e-14\n"
     ]
    },
    {
     "name": "stderr",
     "output_type": "stream",
     "text": [
      "  0%|          | 0/3358 [00:00<?, ?it/s]\n"
     ]
    },
    {
     "name": "stdout",
     "output_type": "stream",
     "text": [
      "Epoch : 15/200 | Valid Loss : 0.00020657972326727406\n",
      "Epoch : 15/200 | Valid IOU : 2.308498505186375e-13\n",
      "Early Stops!!! : 15/200\n"
     ]
    },
    {
     "name": "stderr",
     "output_type": "stream",
     "text": [
      "  0%|          | 0/13430 [00:00<?, ?it/s]\n"
     ]
    },
    {
     "name": "stdout",
     "output_type": "stream",
     "text": [
      "Epoch : 16/200 | Train Loss : 5.176729527499724e-05\n",
      "Epoch : 16/200 | Train IOU : 2.425412605098669e-14\n"
     ]
    },
    {
     "name": "stderr",
     "output_type": "stream",
     "text": [
      "  0%|          | 0/3358 [00:00<?, ?it/s]\n",
      "Training Progress:   8%|▊         | 17/200 [00:01<00:16, 10.99it/s]"
     ]
    },
    {
     "name": "stdout",
     "output_type": "stream",
     "text": [
      "Epoch : 16/200 | Valid Loss : 0.00020659981631607864\n",
      "Epoch : 16/200 | Valid IOU : 2.1896786878565952e-13\n",
      "Early Stops!!! : 16/200\n"
     ]
    },
    {
     "name": "stderr",
     "output_type": "stream",
     "text": [
      "  0%|          | 0/13430 [00:00<?, ?it/s]\n"
     ]
    },
    {
     "name": "stdout",
     "output_type": "stream",
     "text": [
      "Epoch : 17/200 | Train Loss : 5.188645574466026e-05\n",
      "Epoch : 17/200 | Train IOU : 1.2087689581797057e-14\n"
     ]
    },
    {
     "name": "stderr",
     "output_type": "stream",
     "text": [
      "  0%|          | 0/3358 [00:00<?, ?it/s]\n"
     ]
    },
    {
     "name": "stdout",
     "output_type": "stream",
     "text": [
      "Epoch : 17/200 | Valid Loss : 0.00020661218809612882\n",
      "Epoch : 17/200 | Valid IOU : 2.0680299177840506e-13\n",
      "Early Stops!!! : 17/200\n"
     ]
    },
    {
     "name": "stderr",
     "output_type": "stream",
     "text": [
      "  0%|          | 0/13430 [00:00<?, ?it/s]\n"
     ]
    },
    {
     "name": "stdout",
     "output_type": "stream",
     "text": [
      "Epoch : 18/200 | Train Loss : 5.1782260789679484e-05\n",
      "Epoch : 18/200 | Train IOU : 2.0683378481432506e-14\n"
     ]
    },
    {
     "name": "stderr",
     "output_type": "stream",
     "text": [
      "  0%|          | 0/3358 [00:00<?, ?it/s]\n",
      "Training Progress:  10%|▉         | 19/200 [00:01<00:16, 11.26it/s]"
     ]
    },
    {
     "name": "stdout",
     "output_type": "stream",
     "text": [
      "Epoch : 18/200 | Valid Loss : 0.00020662203937005683\n",
      "Epoch : 18/200 | Valid IOU : 1.9853087144602823e-13\n",
      "Early Stops!!! : 18/200\n"
     ]
    },
    {
     "name": "stderr",
     "output_type": "stream",
     "text": [
      "  0%|          | 0/13430 [00:00<?, ?it/s]\n"
     ]
    },
    {
     "name": "stdout",
     "output_type": "stream",
     "text": [
      "Epoch : 19/200 | Train Loss : 5.178281999930285e-05\n",
      "Epoch : 19/200 | Train IOU : 2.6592916666616582e-14\n"
     ]
    },
    {
     "name": "stderr",
     "output_type": "stream",
     "text": [
      "  0%|          | 0/3358 [00:00<?, ?it/s]\n"
     ]
    },
    {
     "name": "stdout",
     "output_type": "stream",
     "text": [
      "Epoch : 19/200 | Valid Loss : 0.0002066142648511731\n",
      "Epoch : 19/200 | Valid IOU : 2.1736956751800194e-13\n",
      "Early Stops!!! : 19/200\n"
     ]
    },
    {
     "name": "stderr",
     "output_type": "stream",
     "text": [
      "  0%|          | 0/13430 [00:00<?, ?it/s]\n"
     ]
    },
    {
     "name": "stdout",
     "output_type": "stream",
     "text": [
      "Epoch : 20/200 | Train Loss : 5.175994566280453e-05\n",
      "Epoch : 20/200 | Train IOU : 2.897282604117787e-14\n"
     ]
    },
    {
     "name": "stderr",
     "output_type": "stream",
     "text": [
      "  0%|          | 0/3358 [00:00<?, ?it/s]\n",
      "Training Progress:  10%|█         | 21/200 [00:01<00:15, 11.60it/s]"
     ]
    },
    {
     "name": "stdout",
     "output_type": "stream",
     "text": [
      "Epoch : 20/200 | Valid Loss : 0.0002066195011138916\n",
      "Epoch : 20/200 | Valid IOU : 2.2560326976953856e-13\n",
      "Early Stops!!! : 20/200\n"
     ]
    },
    {
     "name": "stderr",
     "output_type": "stream",
     "text": [
      "  0%|          | 0/13430 [00:00<?, ?it/s]\n"
     ]
    },
    {
     "name": "stdout",
     "output_type": "stream",
     "text": [
      "Epoch : 21/200 | Train Loss : 5.1832904765966304e-05\n",
      "Epoch : 21/200 | Train IOU : 1.2599012178536743e-14\n"
     ]
    },
    {
     "name": "stderr",
     "output_type": "stream",
     "text": [
      "  0%|          | 0/3358 [00:00<?, ?it/s]\n"
     ]
    },
    {
     "name": "stdout",
     "output_type": "stream",
     "text": [
      "Epoch : 21/200 | Valid Loss : 0.00020655863621605515\n",
      "Epoch : 21/200 | Valid IOU : 3.4229461962226866e-13\n",
      "Early Stops!!! : 21/200\n"
     ]
    },
    {
     "name": "stderr",
     "output_type": "stream",
     "text": [
      "  0%|          | 0/13430 [00:00<?, ?it/s]\n"
     ]
    },
    {
     "name": "stdout",
     "output_type": "stream",
     "text": [
      "Epoch : 22/200 | Train Loss : 5.166981083549676e-05\n",
      "Epoch : 22/200 | Train IOU : 8.366310870695935e-14\n"
     ]
    },
    {
     "name": "stderr",
     "output_type": "stream",
     "text": [
      "  0%|          | 0/3358 [00:00<?, ?it/s]\n",
      "Training Progress:  12%|█▏        | 23/200 [00:02<00:15, 11.39it/s]"
     ]
    },
    {
     "name": "stdout",
     "output_type": "stream",
     "text": [
      "Epoch : 22/200 | Valid Loss : 0.00020649352905791456\n",
      "Epoch : 22/200 | Valid IOU : 9.606332670631863e-13\n",
      "Early Stops!!! : 22/200\n"
     ]
    },
    {
     "name": "stderr",
     "output_type": "stream",
     "text": [
      "  0%|          | 0/13430 [00:00<?, ?it/s]\n"
     ]
    },
    {
     "name": "stdout",
     "output_type": "stream",
     "text": [
      "Epoch : 23/200 | Train Loss : 5.1827956204616745e-05\n",
      "Epoch : 23/200 | Train IOU : 1.4346852902349173e-14\n"
     ]
    },
    {
     "name": "stderr",
     "output_type": "stream",
     "text": [
      "  0%|          | 0/3358 [00:00<?, ?it/s]\n"
     ]
    },
    {
     "name": "stdout",
     "output_type": "stream",
     "text": [
      "Epoch : 23/200 | Valid Loss : 0.00020649786006843426\n",
      "Epoch : 23/200 | Valid IOU : 9.606332670631863e-13\n",
      "Early Stops!!! : 23/200\n"
     ]
    },
    {
     "name": "stderr",
     "output_type": "stream",
     "text": [
      "  0%|          | 0/13430 [00:00<?, ?it/s]\n",
      "Training Progress:  12%|█▏        | 24/200 [00:02<00:16, 10.93it/s]\n"
     ]
    },
    {
     "ename": "KeyboardInterrupt",
     "evalue": "",
     "output_type": "error",
     "traceback": [
      "\u001b[0;31m---------------------------------------------------------------------------\u001b[0m",
      "\u001b[0;31mKeyboardInterrupt\u001b[0m                         Traceback (most recent call last)",
      "Cell \u001b[0;32mIn[17], line 6\u001b[0m\n\u001b[1;32m      3\u001b[0m train_ious, valid_ious \u001b[38;5;241m=\u001b[39m \u001b[38;5;241m0.\u001b[39m, \u001b[38;5;241m0.\u001b[39m\n\u001b[1;32m      5\u001b[0m model\u001b[38;5;241m.\u001b[39mtrain()\n\u001b[0;32m----> 6\u001b[0m \u001b[38;5;28;01mfor\u001b[39;00m _, (images, masks) \u001b[38;5;129;01min\u001b[39;00m tqdm(\u001b[38;5;28menumerate\u001b[39m(train_loader), total\u001b[38;5;241m=\u001b[39m\u001b[38;5;28mlen\u001b[39m(train_loader)):\n\u001b[1;32m      7\u001b[0m     images, masks \u001b[38;5;241m=\u001b[39m images\u001b[38;5;241m.\u001b[39mto(device), masks\u001b[38;5;241m.\u001b[39mto(device)\n\u001b[1;32m      8\u001b[0m     images \u001b[38;5;241m=\u001b[39m images\n",
      "File \u001b[0;32m~/anaconda3/envs/fire/lib/python3.8/site-packages/tqdm/std.py:1181\u001b[0m, in \u001b[0;36mtqdm.__iter__\u001b[0;34m(self)\u001b[0m\n\u001b[1;32m   1178\u001b[0m time \u001b[38;5;241m=\u001b[39m \u001b[38;5;28mself\u001b[39m\u001b[38;5;241m.\u001b[39m_time\n\u001b[1;32m   1180\u001b[0m \u001b[38;5;28;01mtry\u001b[39;00m:\n\u001b[0;32m-> 1181\u001b[0m     \u001b[38;5;28;01mfor\u001b[39;00m obj \u001b[38;5;129;01min\u001b[39;00m iterable:\n\u001b[1;32m   1182\u001b[0m         \u001b[38;5;28;01myield\u001b[39;00m obj\n\u001b[1;32m   1183\u001b[0m         \u001b[38;5;66;03m# Update and possibly print the progressbar.\u001b[39;00m\n\u001b[1;32m   1184\u001b[0m         \u001b[38;5;66;03m# Note: does not call self.update(1) for speed optimisation.\u001b[39;00m\n",
      "File \u001b[0;32m~/anaconda3/envs/fire/lib/python3.8/site-packages/torch/utils/data/dataloader.py:631\u001b[0m, in \u001b[0;36m_BaseDataLoaderIter.__next__\u001b[0;34m(self)\u001b[0m\n\u001b[1;32m    628\u001b[0m \u001b[38;5;28;01mif\u001b[39;00m \u001b[38;5;28mself\u001b[39m\u001b[38;5;241m.\u001b[39m_sampler_iter \u001b[38;5;129;01mis\u001b[39;00m \u001b[38;5;28;01mNone\u001b[39;00m:\n\u001b[1;32m    629\u001b[0m     \u001b[38;5;66;03m# TODO(https://github.com/pytorch/pytorch/issues/76750)\u001b[39;00m\n\u001b[1;32m    630\u001b[0m     \u001b[38;5;28mself\u001b[39m\u001b[38;5;241m.\u001b[39m_reset()  \u001b[38;5;66;03m# type: ignore[call-arg]\u001b[39;00m\n\u001b[0;32m--> 631\u001b[0m data \u001b[38;5;241m=\u001b[39m \u001b[38;5;28;43mself\u001b[39;49m\u001b[38;5;241;43m.\u001b[39;49m\u001b[43m_next_data\u001b[49m\u001b[43m(\u001b[49m\u001b[43m)\u001b[49m\n\u001b[1;32m    632\u001b[0m \u001b[38;5;28mself\u001b[39m\u001b[38;5;241m.\u001b[39m_num_yielded \u001b[38;5;241m+\u001b[39m\u001b[38;5;241m=\u001b[39m \u001b[38;5;241m1\u001b[39m\n\u001b[1;32m    633\u001b[0m \u001b[38;5;28;01mif\u001b[39;00m \u001b[38;5;28mself\u001b[39m\u001b[38;5;241m.\u001b[39m_dataset_kind \u001b[38;5;241m==\u001b[39m _DatasetKind\u001b[38;5;241m.\u001b[39mIterable \u001b[38;5;129;01mand\u001b[39;00m \\\n\u001b[1;32m    634\u001b[0m         \u001b[38;5;28mself\u001b[39m\u001b[38;5;241m.\u001b[39m_IterableDataset_len_called \u001b[38;5;129;01mis\u001b[39;00m \u001b[38;5;129;01mnot\u001b[39;00m \u001b[38;5;28;01mNone\u001b[39;00m \u001b[38;5;129;01mand\u001b[39;00m \\\n\u001b[1;32m    635\u001b[0m         \u001b[38;5;28mself\u001b[39m\u001b[38;5;241m.\u001b[39m_num_yielded \u001b[38;5;241m>\u001b[39m \u001b[38;5;28mself\u001b[39m\u001b[38;5;241m.\u001b[39m_IterableDataset_len_called:\n",
      "File \u001b[0;32m~/anaconda3/envs/fire/lib/python3.8/site-packages/torch/utils/data/dataloader.py:675\u001b[0m, in \u001b[0;36m_SingleProcessDataLoaderIter._next_data\u001b[0;34m(self)\u001b[0m\n\u001b[1;32m    673\u001b[0m \u001b[38;5;28;01mdef\u001b[39;00m \u001b[38;5;21m_next_data\u001b[39m(\u001b[38;5;28mself\u001b[39m):\n\u001b[1;32m    674\u001b[0m     index \u001b[38;5;241m=\u001b[39m \u001b[38;5;28mself\u001b[39m\u001b[38;5;241m.\u001b[39m_next_index()  \u001b[38;5;66;03m# may raise StopIteration\u001b[39;00m\n\u001b[0;32m--> 675\u001b[0m     data \u001b[38;5;241m=\u001b[39m \u001b[38;5;28;43mself\u001b[39;49m\u001b[38;5;241;43m.\u001b[39;49m\u001b[43m_dataset_fetcher\u001b[49m\u001b[38;5;241;43m.\u001b[39;49m\u001b[43mfetch\u001b[49m\u001b[43m(\u001b[49m\u001b[43mindex\u001b[49m\u001b[43m)\u001b[49m  \u001b[38;5;66;03m# may raise StopIteration\u001b[39;00m\n\u001b[1;32m    676\u001b[0m     \u001b[38;5;28;01mif\u001b[39;00m \u001b[38;5;28mself\u001b[39m\u001b[38;5;241m.\u001b[39m_pin_memory:\n\u001b[1;32m    677\u001b[0m         data \u001b[38;5;241m=\u001b[39m _utils\u001b[38;5;241m.\u001b[39mpin_memory\u001b[38;5;241m.\u001b[39mpin_memory(data, \u001b[38;5;28mself\u001b[39m\u001b[38;5;241m.\u001b[39m_pin_memory_device)\n",
      "File \u001b[0;32m~/anaconda3/envs/fire/lib/python3.8/site-packages/torch/utils/data/_utils/fetch.py:49\u001b[0m, in \u001b[0;36m_MapDatasetFetcher.fetch\u001b[0;34m(self, possibly_batched_index)\u001b[0m\n\u001b[1;32m     47\u001b[0m \u001b[38;5;28;01mif\u001b[39;00m \u001b[38;5;28mself\u001b[39m\u001b[38;5;241m.\u001b[39mauto_collation:\n\u001b[1;32m     48\u001b[0m     \u001b[38;5;28;01mif\u001b[39;00m \u001b[38;5;28mhasattr\u001b[39m(\u001b[38;5;28mself\u001b[39m\u001b[38;5;241m.\u001b[39mdataset, \u001b[38;5;124m\"\u001b[39m\u001b[38;5;124m__getitems__\u001b[39m\u001b[38;5;124m\"\u001b[39m) \u001b[38;5;129;01mand\u001b[39;00m \u001b[38;5;28mself\u001b[39m\u001b[38;5;241m.\u001b[39mdataset\u001b[38;5;241m.\u001b[39m__getitems__:\n\u001b[0;32m---> 49\u001b[0m         data \u001b[38;5;241m=\u001b[39m \u001b[38;5;28;43mself\u001b[39;49m\u001b[38;5;241;43m.\u001b[39;49m\u001b[43mdataset\u001b[49m\u001b[38;5;241;43m.\u001b[39;49m\u001b[43m__getitems__\u001b[49m\u001b[43m(\u001b[49m\u001b[43mpossibly_batched_index\u001b[49m\u001b[43m)\u001b[49m\n\u001b[1;32m     50\u001b[0m     \u001b[38;5;28;01melse\u001b[39;00m:\n\u001b[1;32m     51\u001b[0m         data \u001b[38;5;241m=\u001b[39m [\u001b[38;5;28mself\u001b[39m\u001b[38;5;241m.\u001b[39mdataset[idx] \u001b[38;5;28;01mfor\u001b[39;00m idx \u001b[38;5;129;01min\u001b[39;00m possibly_batched_index]\n",
      "File \u001b[0;32m~/anaconda3/envs/fire/lib/python3.8/site-packages/torch/utils/data/dataset.py:399\u001b[0m, in \u001b[0;36mSubset.__getitems__\u001b[0;34m(self, indices)\u001b[0m\n\u001b[1;32m    397\u001b[0m     \u001b[38;5;28;01mreturn\u001b[39;00m \u001b[38;5;28mself\u001b[39m\u001b[38;5;241m.\u001b[39mdataset\u001b[38;5;241m.\u001b[39m__getitems__([\u001b[38;5;28mself\u001b[39m\u001b[38;5;241m.\u001b[39mindices[idx] \u001b[38;5;28;01mfor\u001b[39;00m idx \u001b[38;5;129;01min\u001b[39;00m indices])  \u001b[38;5;66;03m# type: ignore[attr-defined]\u001b[39;00m\n\u001b[1;32m    398\u001b[0m \u001b[38;5;28;01melse\u001b[39;00m:\n\u001b[0;32m--> 399\u001b[0m     \u001b[38;5;28;01mreturn\u001b[39;00m [\u001b[38;5;28mself\u001b[39m\u001b[38;5;241m.\u001b[39mdataset[\u001b[38;5;28mself\u001b[39m\u001b[38;5;241m.\u001b[39mindices[idx]] \u001b[38;5;28;01mfor\u001b[39;00m idx \u001b[38;5;129;01min\u001b[39;00m indices]\n",
      "File \u001b[0;32m~/anaconda3/envs/fire/lib/python3.8/site-packages/torch/utils/data/dataset.py:399\u001b[0m, in \u001b[0;36m<listcomp>\u001b[0;34m(.0)\u001b[0m\n\u001b[1;32m    397\u001b[0m     \u001b[38;5;28;01mreturn\u001b[39;00m \u001b[38;5;28mself\u001b[39m\u001b[38;5;241m.\u001b[39mdataset\u001b[38;5;241m.\u001b[39m__getitems__([\u001b[38;5;28mself\u001b[39m\u001b[38;5;241m.\u001b[39mindices[idx] \u001b[38;5;28;01mfor\u001b[39;00m idx \u001b[38;5;129;01min\u001b[39;00m indices])  \u001b[38;5;66;03m# type: ignore[attr-defined]\u001b[39;00m\n\u001b[1;32m    398\u001b[0m \u001b[38;5;28;01melse\u001b[39;00m:\n\u001b[0;32m--> 399\u001b[0m     \u001b[38;5;28;01mreturn\u001b[39;00m [\u001b[38;5;28;43mself\u001b[39;49m\u001b[38;5;241;43m.\u001b[39;49m\u001b[43mdataset\u001b[49m\u001b[43m[\u001b[49m\u001b[38;5;28;43mself\u001b[39;49m\u001b[38;5;241;43m.\u001b[39;49m\u001b[43mindices\u001b[49m\u001b[43m[\u001b[49m\u001b[43midx\u001b[49m\u001b[43m]\u001b[49m\u001b[43m]\u001b[49m \u001b[38;5;28;01mfor\u001b[39;00m idx \u001b[38;5;129;01min\u001b[39;00m indices]\n",
      "Cell \u001b[0;32mIn[3], line 45\u001b[0m, in \u001b[0;36mCustomDataset.__getitem__\u001b[0;34m(self, idx)\u001b[0m\n\u001b[1;32m     42\u001b[0m image_path \u001b[38;5;241m=\u001b[39m \u001b[38;5;28mself\u001b[39m\u001b[38;5;241m.\u001b[39mimage_paths[idx]\n\u001b[1;32m     43\u001b[0m mask_path \u001b[38;5;241m=\u001b[39m \u001b[38;5;28mself\u001b[39m\u001b[38;5;241m.\u001b[39mmask_paths[idx]\n\u001b[0;32m---> 45\u001b[0m images \u001b[38;5;241m=\u001b[39m \u001b[38;5;28;43mself\u001b[39;49m\u001b[38;5;241;43m.\u001b[39;49m\u001b[43mget_img_arr\u001b[49m\u001b[43m(\u001b[49m\u001b[43mpath\u001b[49m\u001b[43m \u001b[49m\u001b[38;5;241;43m=\u001b[39;49m\u001b[43m \u001b[49m\u001b[43mimage_path\u001b[49m\u001b[43m)\u001b[49m\n\u001b[1;32m     46\u001b[0m masks \u001b[38;5;241m=\u001b[39m \u001b[38;5;28mself\u001b[39m\u001b[38;5;241m.\u001b[39mget_mask_arr(path \u001b[38;5;241m=\u001b[39m mask_path)\n\u001b[1;32m     48\u001b[0m \u001b[38;5;66;03m# # transform \u001b[39;00m\n",
      "Cell \u001b[0;32mIn[3], line 28\u001b[0m, in \u001b[0;36mCustomDataset.get_img_arr\u001b[0;34m(self, path)\u001b[0m\n\u001b[1;32m     26\u001b[0m \u001b[38;5;28;01mdef\u001b[39;00m \u001b[38;5;21mget_img_arr\u001b[39m(\u001b[38;5;28mself\u001b[39m, path):\n\u001b[1;32m     27\u001b[0m     \u001b[38;5;66;03m# img = rasterio.open(path).read().transpose((1, 2, 0))\u001b[39;00m\n\u001b[0;32m---> 28\u001b[0m     img \u001b[38;5;241m=\u001b[39m \u001b[43mrasterio\u001b[49m\u001b[38;5;241;43m.\u001b[39;49m\u001b[43mopen\u001b[49m\u001b[43m(\u001b[49m\u001b[43mpath\u001b[49m\u001b[43m)\u001b[49m\u001b[38;5;241;43m.\u001b[39;49m\u001b[43mread\u001b[49m\u001b[43m(\u001b[49m\u001b[38;5;28;43mself\u001b[39;49m\u001b[38;5;241;43m.\u001b[39;49m\u001b[43mband\u001b[49m\u001b[43m)\u001b[49m\u001b[38;5;241m.\u001b[39mtranspose((\u001b[38;5;241m1\u001b[39m, \u001b[38;5;241m2\u001b[39m, \u001b[38;5;241m0\u001b[39m))\n\u001b[1;32m     29\u001b[0m     img \u001b[38;5;241m=\u001b[39m np\u001b[38;5;241m.\u001b[39mfloat32(img)\u001b[38;5;241m/\u001b[39m\u001b[38;5;28mself\u001b[39m\u001b[38;5;241m.\u001b[39mMAX_PIXEL_VALUE\n\u001b[1;32m     31\u001b[0m     \u001b[38;5;28;01mreturn\u001b[39;00m img\n",
      "\u001b[0;31mKeyboardInterrupt\u001b[0m: "
     ]
    }
   ],
   "source": [
    "for epoch in tqdm(range(epoch, epochs), desc=\"Training Progress\"):\n",
    "    train_losses, valid_losses = 0., 0.\n",
    "    train_ious, valid_ious = 0., 0.\n",
    "    \n",
    "    model.train()\n",
    "    for _, (images, masks) in tqdm(enumerate(train_loader), total=len(train_loader)):\n",
    "        images, masks = images.to(device), masks.to(device)\n",
    "        images = images\n",
    "        masks = masks.permute(0,3,1,2)\n",
    "        \n",
    "        preds = model(images) \n",
    "\n",
    "        train_loss = loss(preds, masks).to(device)\n",
    "        train_iou = calculate_iou(preds, masks).cpu().detach().numpy()\n",
    "        \n",
    "        optimizer.zero_grad()\n",
    "        train_loss.backward()\n",
    "        optimizer.step()\n",
    "        train_losses += train_loss.item()\n",
    "        train_ious += train_iou\n",
    "        break \n",
    "    scheduler.step()\n",
    "    \n",
    "    metrics['tr_bce'].append(train_losses / len(train_loader))\n",
    "    metrics['tr_iou'].append(train_ious / len(train_loader))\n",
    "    print(f\"Epoch : {epoch}/{epochs} | Train Loss : {train_losses / len(train_loader)}\")\n",
    "    print(f\"Epoch : {epoch}/{epochs} | Train IOU : {train_ious / len(train_loader)}\")\n",
    "    \n",
    "    with torch.no_grad():\n",
    "        model.eval()\n",
    "        for _, (images, masks) in tqdm(enumerate(valid_loader), total=len(valid_loader)):\n",
    "            images, masks = images.to(device), masks.to(device)\n",
    "            images = images\n",
    "            masks = masks.permute(0,3,1,2)\n",
    "\n",
    "            preds = model(images)\n",
    "            valid_loss = loss(preds, masks).to(device)\n",
    "            valid_iou = calculate_iou(preds, masks).cpu().detach().numpy()\n",
    "        \n",
    "            valid_losses += valid_loss.item()\n",
    "            valid_ious += valid_iou\n",
    "            break\n",
    "            \n",
    "\n",
    "    metrics['vl_bce'].append(valid_losses / len(valid_loader))\n",
    "    metrics['vl_iou'].append(valid_ious / len(valid_loader))\n",
    "    print(f\"Epoch : {epoch}/{epochs} | Valid Loss : {valid_losses / len(valid_loader)}\")\n",
    "    print(f\"Epoch : {epoch}/{epochs} | Valid IOU : {valid_ious / len(valid_loader)}\")\n",
    "\n",
    "    # Early Stopping\n",
    "    if valid_losses < best_loss:\n",
    "        best_loss = valid_losses\n",
    "        early_stopping_cnt = 0\n",
    "        # checkpoint(SAVE_DIR, checkpoint_datetime, model, optimizer, lr, loss, metrics, epoch, epochs, images, masks, preds)\n",
    "\n",
    "    else:\n",
    "        early_stopping_cnt += 1\n",
    "        if early_stopping_cnt >= early_stopping_epochs:\n",
    "            print(f\"Early Stops!!! : {epoch}/{epochs}\")\n",
    "            # checkpoint(SAVE_DIR, checkpoint_datetime, model, optimizer, lr, loss, metrics, epoch, epochs, images, masks, preds)\n",
    "    \n",
    "    # Validation 성능이 이전보다 우수한 경우 모델 저장\n",
    "    try:        \n",
    "        if valid_losses > np.array(metrics['vl_bce'])[:-1].max() and epoch%10 == 0:\n",
    "            pass\n",
    "            # checkpoint(SAVE_DIR, checkpoint_datetime, model, optimizer, lr, loss, metrics, epoch, epochs, images, masks, preds)\n",
    "    except Exception as e:\n",
    "        print(e)\n",
    "        pass"
   ]
  },
  {
   "cell_type": "code",
   "execution_count": null,
   "metadata": {},
   "outputs": [],
   "source": []
  }
 ],
 "metadata": {
  "kernelspec": {
   "display_name": "Python 3 (ipykernel)",
   "language": "python",
   "name": "python3"
  },
  "language_info": {
   "codemirror_mode": {
    "name": "ipython",
    "version": 3
   },
   "file_extension": ".py",
   "mimetype": "text/x-python",
   "name": "python",
   "nbconvert_exporter": "python",
   "pygments_lexer": "ipython3",
   "version": "3.8.18"
  }
 },
 "nbformat": 4,
 "nbformat_minor": 4
}
